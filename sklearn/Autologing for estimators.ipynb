{
 "cells": [
  {
   "cell_type": "code",
   "execution_count": 10,
   "id": "af701f9b",
   "metadata": {},
   "outputs": [
    {
     "name": "stderr",
     "output_type": "stream",
     "text": [
      "2022/07/05 14:26:30 INFO mlflow.utils.autologging_utils: Created MLflow autologging run with ID 'd3bd73a2efec43319a8910b2410f82be', which will track hyperparameters, performance metrics, model artifacts, and lineage information for the current sklearn workflow\n"
     ]
    },
    {
     "name": "stdout",
     "output_type": "stream",
     "text": [
      "Logged data and model in run d3bd73a2efec43319a8910b2410f82be\n",
      "\n",
      "---------- logged params ----------\n",
      "{'copy_X': 'True',\n",
      " 'fit_intercept': 'True',\n",
      " 'n_jobs': 'None',\n",
      " 'normalize': 'False',\n",
      " 'positive': 'False'}\n",
      "\n",
      "---------- logged metrics ----------\n",
      "{'training_mae': 2.220446049250313e-16,\n",
      " 'training_mse': 1.9721522630525295e-31,\n",
      " 'training_r2_score': 1.0,\n",
      " 'training_rmse': 4.440892098500626e-16,\n",
      " 'training_score': 1.0}\n",
      "\n",
      "---------- logged tags ----------\n",
      "{'estimator_class': 'sklearn.linear_model._base.LinearRegression',\n",
      " 'estimator_name': 'LinearRegression'}\n",
      "\n",
      "---------- logged artifacts ----------\n",
      "['model/MLmodel',\n",
      " 'model/conda.yaml',\n",
      " 'model/model.pkl',\n",
      " 'model/python_env.yaml',\n",
      " 'model/requirements.txt']\n"
     ]
    }
   ],
   "source": [
    "from pprint import pprint\n",
    "\n",
    "import numpy as np\n",
    "from sklearn.linear_model import LinearRegression\n",
    "\n",
    "import mlflow\n",
    "from utils import fetch_logged_data\n",
    "\n",
    "\n",
    "def main():\n",
    "    # enable autologging\n",
    "    mlflow.sklearn.autolog()\n",
    "\n",
    "    # prepare training data\n",
    "    X = np.array([[1, 1], [1, 2], [2, 2], [2, 3]])\n",
    "    y = np.dot(X, np.array([1, 2])) + 3\n",
    "\n",
    "    # train a model\n",
    "    model = LinearRegression()\n",
    "    model.fit(X, y)\n",
    "    run_id = mlflow.last_active_run().info.run_id\n",
    "    print(\"Logged data and model in run {}\".format(run_id))\n",
    "\n",
    "    # show logged data\n",
    "    for key, data in fetch_logged_data(run_id).items():\n",
    "        print(\"\\n---------- logged {} ----------\".format(key))\n",
    "        pprint(data)\n",
    "\n",
    "\n",
    "if __name__ == \"__main__\":\n",
    "    main()"
   ]
  },
  {
   "cell_type": "code",
   "execution_count": null,
   "id": "e8322ec7",
   "metadata": {},
   "outputs": [],
   "source": []
  }
 ],
 "metadata": {
  "kernelspec": {
   "display_name": "Python 3 (ipykernel)",
   "language": "python",
   "name": "python3"
  },
  "language_info": {
   "codemirror_mode": {
    "name": "ipython",
    "version": 3
   },
   "file_extension": ".py",
   "mimetype": "text/x-python",
   "name": "python",
   "nbconvert_exporter": "python",
   "pygments_lexer": "ipython3",
   "version": "3.9.7"
  }
 },
 "nbformat": 4,
 "nbformat_minor": 5
}
