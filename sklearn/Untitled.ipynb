{
 "cells": [
  {
   "cell_type": "code",
   "execution_count": null,
   "id": "e9b7eb1a",
   "metadata": {},
   "outputs": [],
   "source": [
    "from pprint import pprint\n",
    "\n",
    "import numpy as np\n",
    "from sklearn.linear_model import LinearRegression\n",
    "\n",
    "import mlflow\n",
    "from utils import fetch_logged_data\n",
    "\n",
    "\n",
    "def main():\n",
    "    # enable autologging\n",
    "    mlflow.sklearn.autolog()\n",
    "\n",
    "    # prepare training data\n",
    "    X = np.array([[1, 1], [1, 2], [2, 2], [2, 3]])\n",
    "    y = np.dot(X, np.array([1, 2])) + 3\n",
    "\n",
    "    # train a model\n",
    "    model = LinearRegression()\n",
    "    model.fit(X, y)\n",
    "    run_id = mlflow.last_active_run().info.run_id\n",
    "    print(\"Logged data and model in run {}\".format(run_id))\n",
    "\n",
    "    # show logged data\n",
    "    for key, data in fetch_logged_data(run_id).items():\n",
    "        print(\"\\n---------- logged {} ----------\".format(key))\n",
    "        pprint(data)\n",
    "\n",
    "\n",
    "if __name__ == \"__main__\":\n",
    "    main()"
   ]
  },
  {
   "cell_type": "code",
   "execution_count": 8,
   "id": "e5ab96fa",
   "metadata": {},
   "outputs": [
    {
     "name": "stdout",
     "output_type": "stream",
     "text": [
      "^C\n"
     ]
    }
   ],
   "source": [
    "!mlflow ui\n"
   ]
  },
  {
   "cell_type": "code",
   "execution_count": null,
   "id": "e6f686e7",
   "metadata": {},
   "outputs": [],
   "source": []
  }
 ],
 "metadata": {
  "kernelspec": {
   "display_name": "Python 3 (ipykernel)",
   "language": "python",
   "name": "python3"
  },
  "language_info": {
   "codemirror_mode": {
    "name": "ipython",
    "version": 3
   },
   "file_extension": ".py",
   "mimetype": "text/x-python",
   "name": "python",
   "nbconvert_exporter": "python",
   "pygments_lexer": "ipython3",
   "version": "3.9.7"
  }
 },
 "nbformat": 4,
 "nbformat_minor": 5
}
